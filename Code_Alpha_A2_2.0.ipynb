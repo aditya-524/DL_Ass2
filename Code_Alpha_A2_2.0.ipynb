{
 "cells": [
  {
   "cell_type": "markdown",
   "metadata": {},
   "source": [
    "## Deep Learning Fundamentals Assignment 2"
   ]
  },
  {
   "cell_type": "markdown",
   "metadata": {},
   "source": []
  },
  {
   "cell_type": "markdown",
   "metadata": {},
   "source": [
    "### Importing Libraries"
   ]
  },
  {
   "cell_type": "code",
   "execution_count": 1,
   "metadata": {},
   "outputs": [],
   "source": [
    "import torch\n",
    "import torch.nn as nn\n",
    "import torch.optim as optim\n",
    "from torchvision import transforms, datasets"
   ]
  },
  {
   "cell_type": "markdown",
   "metadata": {},
   "source": [
    "### Loading and Preparing Dataset"
   ]
  },
  {
   "cell_type": "code",
   "execution_count": 2,
   "metadata": {},
   "outputs": [],
   "source": [
    "import torchvision\n",
    "import torchvision.transforms as transforms\n",
    "\n",
    "cinic_dir = 'D:/MDS/2023/4th Tri-3/DLF/Ass2/DS_10283_3192'\n",
    "traindir = cinic_dir + '/train'\n",
    "validatedir = cinic_dir + '/valid'\n",
    "testdir = cinic_dir + '/test'\n",
    "\n",
    "cinic_mean = [0.47889522, 0.47227842, 0.43047404]\n",
    "cinic_std = [0.24205776, 0.23828046, 0.25874835]\n",
    "normalize = transforms.Normalize(mean=cinic_mean, std=cinic_std)\n",
    "\n",
    "transform = transforms.Compose([\n",
    "    transforms.ToTensor(),\n",
    "    transforms.Normalize(mean=cinic_mean, std=cinic_std)\n",
    "])\n",
    "\n",
    "train_transform = transforms.Compose([\n",
    "    transforms.RandomCrop(32, padding=4),\n",
    "    transforms.RandomHorizontalFlip(),\n",
    "    transforms.ToTensor(),\n",
    "    transforms.Normalize(mean=cinic_mean, std=cinic_std)\n",
    "])\n",
    "\n",
    "trainset = datasets.ImageFolder(root=traindir, transform=train_transform)\n",
    "trainloader = torch.utils.data.DataLoader(trainset,\n",
    "                                          batch_size=64,\n",
    "                                          shuffle=True,\n",
    "                                          num_workers=2)\n",
    "\n",
    "validateset = datasets.ImageFolder(root=validatedir, transform=transform)\n",
    "validateloader = torch.utils.data.DataLoader(validateset,\n",
    "                                             batch_size=64,\n",
    "                                             shuffle=True,\n",
    "                                             num_workers=2)\n",
    "\n",
    "testset = datasets.ImageFolder(root=testdir, transform=transform)\n",
    "testloader = torch.utils.data.DataLoader(testset,\n",
    "                                         batch_size=64,\n",
    "                                         shuffle=True,\n",
    "                                         num_workers=2)\n",
    "\n",
    "classes = ('airplane', 'automobile', 'bird', 'cat',\n",
    "           'deer', 'dog', 'frog', 'horse', 'ship', 'truck')"
   ]
  },
  {
   "cell_type": "markdown",
   "metadata": {},
   "source": [
    "### Ensuring GPU is being used to train"
   ]
  },
  {
   "cell_type": "code",
   "execution_count": 3,
   "metadata": {},
   "outputs": [
    {
     "name": "stdout",
     "output_type": "stream",
     "text": [
      "cuda:0\n"
     ]
    }
   ],
   "source": [
    "device = torch.device(\"cuda:0\" if torch.cuda.is_available() else \"cpu\")\n",
    "print(device)"
   ]
  },
  {
   "cell_type": "markdown",
   "metadata": {},
   "source": [
    "### Printing some training images"
   ]
  },
  {
   "cell_type": "code",
   "execution_count": 4,
   "metadata": {},
   "outputs": [
    {
     "name": "stderr",
     "output_type": "stream",
     "text": [
      "Clipping input data to the valid range for imshow with RGB data ([0..1] for floats or [0..255] for integers).\n"
     ]
    },
    {
     "data": {
      "image/png": "[encoded data removed]",
      "text/plain": [
       "<Figure size 640x480 with 1 Axes>"
      ]
     },
     "metadata": {},
     "output_type": "display_data"
    },
    {
     "name": "stdout",
     "output_type": "stream",
     "text": [
      "  dog  deer airplane  ship\n"
     ]
    }
   ],
   "source": [
    "import matplotlib.pyplot as plt\n",
    "import numpy as np\n",
    "\n",
    "# functions to show an image\n",
    "def imshow(img):\n",
    "    img = img / 2 + 0.5     # unnormalize\n",
    "    npimg = img.numpy()\n",
    "    plt.imshow(np.transpose(npimg, (1, 2, 0)))\n",
    "    plt.show()\n",
    "\n",
    "# get some random training images\n",
    "dataiter = iter(trainloader)\n",
    "images, labels = next(dataiter)\n",
    "\n",
    "# select the first 4 images\n",
    "images = images[:4]\n",
    "labels = labels[:4]\n",
    "\n",
    "# show images\n",
    "imshow(torchvision.utils.make_grid(images))\n",
    "# print labels\n",
    "print(' '.join('%5s' % classes[labels[j]] for j in range(4)))"
   ]
  },
  {
   "cell_type": "markdown",
   "metadata": {},
   "source": [
    "### Defining the Convolutional Neural Network"
   ]
  },
  {
   "cell_type": "code",
   "execution_count": 10,
   "metadata": {},
   "outputs": [
    {
     "name": "stderr",
     "output_type": "stream",
     "text": [
      "Downloading: \"https://github.com/lukemelas/EfficientNet-PyTorch/releases/download/1.0/efficientnet-b0-355c32eb.pth\" to C:\\Users\\adity/.cache\\torch\\hub\\checkpoints\\efficientnet-b0-355c32eb.pth\n",
      "100.0%\n"
     ]
    },
    {
     "name": "stdout",
     "output_type": "stream",
     "text": [
      "Loaded pretrained weights for efficientnet-b0\n"
     ]
    },
    {
     "ename": "AttributeError",
     "evalue": "'EfficientNet' object has no attribute 'features'",
     "output_type": "error",
     "traceback": [
      "\u001b[1;31m---------------------------------------------------------------------------\u001b[0m",
      "\u001b[1;31mAttributeError\u001b[0m                            Traceback (most recent call last)",
      "\u001b[1;32md:\\MDS\\2023\\4th Tri-3\\DLF\\Ass2\\Code_Alpha_A2_2.0.ipynb Cell 12\u001b[0m line \u001b[0;36m2\n\u001b[0;32m     <a href='vscode-notebook-cell:/d%3A/MDS/2023/4th%20Tri-3/DLF/Ass2/Code_Alpha_A2_2.0.ipynb#X44sZmlsZQ%3D%3D?line=24'>25</a>\u001b[0m efficientnet_model \u001b[39m=\u001b[39m EfficientNet\u001b[39m.\u001b[39mfrom_pretrained(\u001b[39m'\u001b[39m\u001b[39mefficientnet-b0\u001b[39m\u001b[39m'\u001b[39m)\n\u001b[0;32m     <a href='vscode-notebook-cell:/d%3A/MDS/2023/4th%20Tri-3/DLF/Ass2/Code_Alpha_A2_2.0.ipynb#X44sZmlsZQ%3D%3D?line=25'>26</a>\u001b[0m \u001b[39m# Remove the original classification head (top)\u001b[39;00m\n\u001b[1;32m---> <a href='vscode-notebook-cell:/d%3A/MDS/2023/4th%20Tri-3/DLF/Ass2/Code_Alpha_A2_2.0.ipynb#X44sZmlsZQ%3D%3D?line=26'>27</a>\u001b[0m efficientnet_model \u001b[39m=\u001b[39m efficientnet_model\u001b[39m.\u001b[39;49mfeatures\n\u001b[0;32m     <a href='vscode-notebook-cell:/d%3A/MDS/2023/4th%20Tri-3/DLF/Ass2/Code_Alpha_A2_2.0.ipynb#X44sZmlsZQ%3D%3D?line=28'>29</a>\u001b[0m \u001b[39m# Freeze the parameters of the pretrained model\u001b[39;00m\n\u001b[0;32m     <a href='vscode-notebook-cell:/d%3A/MDS/2023/4th%20Tri-3/DLF/Ass2/Code_Alpha_A2_2.0.ipynb#X44sZmlsZQ%3D%3D?line=29'>30</a>\u001b[0m \u001b[39mfor\u001b[39;00m param \u001b[39min\u001b[39;00m efficientnet_model\u001b[39m.\u001b[39mparameters():\n",
      "File \u001b[1;32mc:\\PythonEnvironments\\TorchEnv\\lib\\site-packages\\torch\\nn\\modules\\module.py:1695\u001b[0m, in \u001b[0;36mModule.__getattr__\u001b[1;34m(self, name)\u001b[0m\n\u001b[0;32m   1693\u001b[0m     \u001b[39mif\u001b[39;00m name \u001b[39min\u001b[39;00m modules:\n\u001b[0;32m   1694\u001b[0m         \u001b[39mreturn\u001b[39;00m modules[name]\n\u001b[1;32m-> 1695\u001b[0m \u001b[39mraise\u001b[39;00m \u001b[39mAttributeError\u001b[39;00m(\u001b[39mf\u001b[39m\u001b[39m\"\u001b[39m\u001b[39m'\u001b[39m\u001b[39m{\u001b[39;00m\u001b[39mtype\u001b[39m(\u001b[39mself\u001b[39m)\u001b[39m.\u001b[39m\u001b[39m__name__\u001b[39m\u001b[39m}\u001b[39;00m\u001b[39m'\u001b[39m\u001b[39m object has no attribute \u001b[39m\u001b[39m'\u001b[39m\u001b[39m{\u001b[39;00mname\u001b[39m}\u001b[39;00m\u001b[39m'\u001b[39m\u001b[39m\"\u001b[39m)\n",
      "\u001b[1;31mAttributeError\u001b[0m: 'EfficientNet' object has no attribute 'features'"
     ]
    }
   ],
   "source": [
    "import time\n",
    "import torchvision.models as models\n",
    "\n",
    "\n",
    "# Number of classes in your custom dataset (CINIC-10)\n",
    "num_classes = 10\n",
    "# Define your custom classification head\n",
    "class EfficientNetClassifier(nn.Module):\n",
    "    def __init__(self, num_classes, feature_size):\n",
    "        super(EfficientNetClassifier, self).__init__()\n",
    "        self.flatten = nn.Flatten()\n",
    "        self.fc1 = nn.Linear(feature_size, 512)\n",
    "        self.relu = nn.ReLU()\n",
    "        self.fc2 = nn.Linear(512, num_classes)\n",
    "        self.softmax = nn.Softmax(dim=1)\n",
    "\n",
    "    def forward(self, x):\n",
    "        x = self.flatten(x)\n",
    "        x = self.fc1(x)\n",
    "        x = self.relu(x)\n",
    "        x = self.fc2(x)\n",
    "        x = self.softmax(x)\n",
    "        return x\n",
    "\n",
    "efficientnet_model = EfficientNet.from_pretrained('efficientnet-b0')\n",
    "# Remove the original classification head (top)\n",
    "efficientnet_model = efficientnet_model.features\n",
    "\n",
    "# Freeze the parameters of the pretrained model\n",
    "for param in efficientnet_model.parameters():\n",
    "    param.requires_grad = False\n",
    "\n",
    "# Create the custom classification model\n",
    "custom_EffiNetModel = nn.Sequential(\n",
    "    efficientnet_model,\n",
    "    EfficientNetClassifier(num_classes, feature_size=1280)  # The feature size depends on the specific EfficientNet variant\n",
    ")\n",
    "\n",
    "# Print the model architecture\n",
    "print(custom_EffiNetModel)\n"
   ]
  },
  {
   "cell_type": "code",
   "execution_count": null,
   "metadata": {},
   "outputs": [],
   "source": [
    "class CustomClassifierVGG(nn.Module):\n",
    "    def __init__(self, num_classes):\n",
    "        super(CustomClassifierVGG, self).__init__()\n",
    "        self.classifier = nn.Sequential(\n",
    "            nn.Linear(512 * 7 * 7, 4096),  # Adjust input size based on the VGG variant you are using\n",
    "            nn.ReLU(True),\n",
    "            nn.Dropout(),\n",
    "            nn.Linear(4096, 4096),\n",
    "            nn.ReLU(True),\n",
    "            nn.Dropout(),\n",
    "            nn.Linear(4096, num_classes)\n",
    "        )\n",
    "\n",
    "    def forward(self, x):\n",
    "        x = x.view(x.size(0), -1)  # Flatten the feature maps\n",
    "        x = self.classifier(x)\n",
    "        return x\n",
    "\n",
    "# Load the VGG16 model with pre-trained weights\n",
    "vgg_model = models.vgg16(pretrained=True)\n",
    "\n",
    "# Remove the original classification head\n",
    "vgg_model = vgg_model.features\n",
    "\n",
    "# Freeze the parameters of the pretrained model\n",
    "for param in vgg_model.parameters():\n",
    "    param.requires_grad = False\n",
    "\n",
    "# Number of classes in your custom dataset\n",
    "num_classes = 10  # Adjust as needed\n",
    "\n",
    "# Create the custom classification model\n",
    "custom_vgg_model = nn.Sequential(\n",
    "    vgg_model,\n",
    "    CustomClassifierVGG(num_classes)\n",
    ")\n",
    "\n",
    "# Print the model architecture\n",
    "print(custom_vgg_model)"
   ]
  },
  {
   "cell_type": "code",
   "execution_count": null,
   "metadata": {},
   "outputs": [],
   "source": [
    "# Define your custom classification head\n",
    "class CustomClassifierResNet(nn.Module):\n",
    "    def __init__(self, num_classes):\n",
    "        super(CustomClassifierResNet, self).__init__()\n",
    "        self.fc = nn.Linear(512, num_classes)  # Output size depends on the specific ResNet variant used\n",
    "\n",
    "    def forward(self, x):\n",
    "        x = x.view(x.size(0), -1)  # Flatten the feature maps\n",
    "        x = self.fc(x)\n",
    "        return x\n",
    "\n",
    "# Load the ResNet18 model with pre-trained weights\n",
    "resnet_model = models.resnet18(pretrained=True)\n",
    "\n",
    "# Remove the original classification head\n",
    "resnet_model = nn.Sequential(*list(resnet_model.children())[:-1])\n",
    "\n",
    "# Freeze the parameters of the pretrained model\n",
    "for param in resnet_model.parameters():\n",
    "    param.requires_grad = False\n",
    "\n",
    "# Number of classes in your custom dataset\n",
    "num_classes = 10  # Adjust as needed\n",
    "\n",
    "# Create the custom classification model\n",
    "custom_resnet_model = nn.Sequential(\n",
    "    resnet_model,\n",
    "    CustomClassifierResNet(num_classes)\n",
    ")\n",
    "\n",
    "# Print the model architecture\n",
    "print(custom_resnet_model)"
   ]
  },
  {
   "cell_type": "code",
   "execution_count": null,
   "metadata": {},
   "outputs": [],
   "source": [
    "\n",
    "# import torch.nn.functional as F\n",
    "\n",
    "\n",
    "# class Net(nn.Module):\n",
    "#     def __init__(self):\n",
    "#         super(Net, self).__init__()\n",
    "#         self.conv1 = nn.Conv2d(3, 32, 3)\n",
    "#         self.conv2 = nn.Conv2d(32, 32, 3)\n",
    "#         self.pool = nn.MaxPool2d(2, 2)\n",
    "#         self.dropout1 = nn.Dropout2d(0.2)\n",
    "#         self.conv3 = nn.Conv2d(32, 64, 3)\n",
    "#         self.pool2 = nn.MaxPool2d(2, 2)\n",
    "#         self.conv4 = nn.Conv2d(64, 128, 3)\n",
    "#         self.conv5 = nn.Conv2d(128, 128, 3)\n",
    "#         self.pool3 = nn.MaxPool2d(2, 2)\n",
    "#         self.dropout2 = nn.Dropout2d(0.2)\n",
    "#         self.adaptive_pool = nn.AdaptiveAvgPool2d((4, 4))\n",
    "#         self.fc1 = nn.Linear(128 * 4 * 4, 128)\n",
    "#         self.fc2 = nn.Linear(128, 64)\n",
    "#         self.fc3 = nn.Linear(64, 16)\n",
    "#         self.dropout3 = nn.Dropout(0.2)\n",
    "#         self.fc4 = nn.Linear(16, 10)\n",
    "\n",
    "#     def forward(self, x):\n",
    "#         x = x.to(self.conv1.weight.device)  # add this line\n",
    "#         x = F.relu(self.conv1(x))\n",
    "#         # print(x.shape)\n",
    "#         x = F.relu(self.conv2(x))\n",
    "#         # print(x.shape)\n",
    "#         x = self.pool(x)\n",
    "#         x = self.dropout1(x)\n",
    "#         x = F.relu(self.conv3(x))\n",
    "#         # print(x.shape)\n",
    "#         x = self.pool2(x)\n",
    "#         x = F.relu(self.conv4(x))\n",
    "#         # print(x.shape)\n",
    "#         x = F.relu(self.conv5(x))\n",
    "#         # print(x.shape)\n",
    "#         x = self.pool3(x)\n",
    "#         x = self.dropout2(x)\n",
    "#         x = self.adaptive_pool(x)\n",
    "#         x = x.view(-1, 128 * 4 * 4)\n",
    "#         x = F.relu(self.fc1(x))\n",
    "#         x = F.relu(self.fc2(x))\n",
    "#         x = F.relu(self.fc3(x))\n",
    "#         x = self.dropout3(x)\n",
    "#         x = self.fc4(x)\n",
    "#         return x\n",
    "\n",
    "# net = Net()\n",
    "# print(net)\n"
   ]
  },
  {
   "cell_type": "code",
   "execution_count": null,
   "metadata": {},
   "outputs": [],
   "source": [
    "\n",
    "import torch.nn.functional as F\n",
    "\n",
    "\n",
    "class Net(nn.Module):\n",
    "    def __init__(self):\n",
    "        super(Net, self).__init__()\n",
    "        self.conv1 = nn.Conv2d(3, 6, 5)\n",
    "        self.pool = nn.MaxPool2d(2, 2)\n",
    "        self.conv2 = nn.Conv2d(6, 16, 5)\n",
    "        self.fc1 = nn.Linear(16 * 5 * 5, 120)\n",
    "        self.fc2 = nn.Linear(120, 84)\n",
    "        self.fc3 = nn.Linear(84, 10)\n",
    "\n",
    "    def forward(self, x):\n",
    "        x = self.pool(F.relu(self.conv1(x)))\n",
    "        x = self.pool(F.relu(self.conv2(x)))\n",
    "        x = x.view(-1, 16 * 5 * 5)\n",
    "        x = F.relu(self.fc1(x))\n",
    "        x = F.relu(self.fc2(x))\n",
    "        x = self.fc3(x)\n",
    "        return x\n",
    "\n",
    "\n",
    "net = Net()\n",
    "print(net)\n"
   ]
  },
  {
   "cell_type": "code",
   "execution_count": null,
   "metadata": {},
   "outputs": [],
   "source": [
    "#TODO CHECK THE ERROR OM TORCHVIEW"
   ]
  },
  {
   "cell_type": "markdown",
   "metadata": {},
   "source": [
    "### Visualizing the model"
   ]
  },
  {
   "cell_type": "code",
   "execution_count": null,
   "metadata": {},
   "outputs": [],
   "source": [
    "# #https://torchview.dev/\n",
    "# #https://github.com/mert-kurttutan/torchview\n",
    "from torchview import draw_graph\n",
    "model_graph = draw_graph(net, input_size=(3,32,32), expand_nested=True)\n",
    "model_graph.visual_graph"
   ]
  },
  {
   "cell_type": "code",
   "execution_count": null,
   "metadata": {},
   "outputs": [],
   "source": [
    "from torchsummary import summary\n",
    "\n",
    "device = torch.device('cuda' if torch.cuda.is_available() else 'cpu')\n",
    "net = Net().to(device)\n",
    "summary(net, input_size=(3, 32, 32))"
   ]
  },
  {
   "cell_type": "code",
   "execution_count": null,
   "metadata": {},
   "outputs": [],
   "source": [
    "#https://appsilon.com/visualize-pytorch-neural-networks/\n",
    "#TODO Visulaize\n",
    "# from torchviz import make_dot\n",
    "\n",
    "# model = Net()\n",
    "# y = model(X)"
   ]
  },
  {
   "cell_type": "code",
   "execution_count": null,
   "metadata": {},
   "outputs": [],
   "source": [
    "# from torchviz import make_dot\n",
    "# #https://stackoverflow.com/questions/52468956/how-do-i-visualize-a-net-in-pytorch\n",
    "\n",
    "# #Backward pass apparently,\n",
    "# # TODO check on this later\n",
    "# batch = next(iter(dataloader_train))\n",
    "# yhat = model(batch.text) # Give dummy batch to forward().\n",
    "\n",
    "# make_dot(yhat, params=dict(list(model.named_parameters()))).render(\"cnn_torchviz\", format=\"png\")\n",
    "\n"
   ]
  },
  {
   "cell_type": "code",
   "execution_count": null,
   "metadata": {},
   "outputs": [],
   "source": [
    "# import hiddenlayer as hl\n",
    "# #https://stackoverflow.com/questions/52468956/how-do-i-visualize-a-net-in-pytorch\n",
    "\n",
    "# #Forward pass apparently,\n",
    "# # TODO check on this later\n",
    "# transforms = [ hl.transforms.Prune('Constant') ] # Removes Constant nodes from graph.\n",
    "\n",
    "# graph = hl.build_graph(model, batch.text, transforms=transforms)\n",
    "# graph.theme = hl.graph.THEMES['blue'].copy()\n",
    "# graph.save('rnn_hiddenlayer', format='png')"
   ]
  },
  {
   "cell_type": "markdown",
   "metadata": {},
   "source": [
    "### Defining a Loss function and optimizer"
   ]
  },
  {
   "cell_type": "code",
   "execution_count": null,
   "metadata": {},
   "outputs": [],
   "source": [
    "\n",
    "criterion = nn.CrossEntropyLoss()\n",
    "optimizer = optim.SGD(net.parameters(), lr=0.01, momentum=0.9, weight_decay=0.001)\n",
    "# torch.cuda.empty_cache()\n",
    "device = torch.device(\"cuda:0\" if torch.cuda.is_available() else \"cpu\")\n",
    "net.to(device)\n",
    "# inputs = inputs.to(device)\n",
    "# outputs = net(inputs)\n",
    "print(device)"
   ]
  },
  {
   "cell_type": "markdown",
   "metadata": {},
   "source": [
    "### Training the model"
   ]
  },
  {
   "cell_type": "code",
   "execution_count": null,
   "metadata": {},
   "outputs": [],
   "source": [
    "\n",
    "\n",
    "def accuracy(outputs, labels):\n",
    "    _, predicted = torch.max(outputs, 1)\n",
    "    correct = (predicted == labels).sum().item()\n",
    "    total = labels.size(0)\n",
    "    return correct / total\n",
    "             \n",
    "def recall(outputs, labels):\n",
    "    _, predicted = torch.max(outputs, 1)\n",
    "    true_positives = ((predicted == labels) & (labels == 1)).sum().item()\n",
    "    false_negatives = ((predicted != labels) & (labels == 1)).sum().item()\n",
    "    denominator = true_positives + false_negatives\n",
    "    if denominator == 0:\n",
    "        return 0\n",
    "    else:\n",
    "        return true_positives / denominator\n",
    "\n",
    "def precision(outputs, labels):\n",
    "    _, predicted = torch.max(outputs, 1)\n",
    "    true_positives = ((predicted == labels) & (labels == 1)).sum().item()\n",
    "    false_positives = ((predicted != labels) & (labels == 0)).sum().item()\n",
    "    denominator = true_positives + false_positives\n",
    "    if denominator == 0:\n",
    "        return 0\n",
    "    else:\n",
    "        return true_positives / denominator\n",
    "    \n",
    "def show_train_acc(dictionary_val, dictionary_acc, dictionary_loss, dictionary_lr):\n",
    "    fig, ax1 = plt.subplots()\n",
    "\n",
    "    fig.set_figheight(20)\n",
    "    fig.set_figwidth(20)\n",
    "\n",
    "    ax1.set_title('Training/Validation Accuracy & Loss / Learning Rate', fontsize=20)\n",
    "\n",
    "    ax2 = ax1.twinx()\n",
    "    ax2.figure.figsize=(120,120)\n",
    "\n",
    "    l1, = ax1.plot(list(dictionary_val.keys()), list(dictionary_val.values()), 'g-')\n",
    "    l2, = ax1.plot(list(dictionary_acc.keys()), list(dictionary_acc.values()), 'b-')\n",
    "    l3, = ax2.plot(list(dictionary_loss.keys()), list(dictionary_loss.values()), 'r--')\n",
    "    l4, = ax2.plot(list(dictionary_lr.keys()), list(dictionary_lr.values()), 'ro')\n",
    "\n",
    "    plt.xticks(fontsize=20)\n",
    "    plt.yticks(fontsize=20)\n",
    "\n",
    "    ax1.tick_params(axis='both', which='major', labelsize=20)\n",
    "    ax2.tick_params(axis='y', which='major', labelsize=20)\n",
    "\n",
    "    ax1.set_xlabel('Epoch', fontsize=20)\n",
    "    ax1.set_ylabel('Accuracy', fontsize=20, color='#008888')\n",
    "    ax2.set_ylabel('Loss / rate', fontsize=20, color='r')\n",
    "    ax2.set_yscale(\"log\")\n",
    "\n",
    "    ax1.grid(axis='both', which='both')\n",
    "    plt.legend(handles=[l1, l2, l3, l4],\n",
    "               labels=['Validation Accuracy', 'Train Accuracy', 'Loss', 'learning rate'], fontsize=20, loc='right')\n",
    "\n",
    "    plt.show()\n",
    "        \n",
    "def train_model_one_epoch(model, trainloader, optimizer, criterion, device):\n",
    "    model.train()\n",
    "    \n",
    "    result = {'loss': 0,\n",
    "             'accuracy': 0,\n",
    "             'recall': 0,\n",
    "             'precision': 0}\n",
    "    for i, data in enumerate(trainloader):\n",
    "        inputs, labels = data\n",
    "        inputs, labels = inputs.to(device), labels.to(device)\n",
    "\n",
    "        # zero the parameter gradients\n",
    "        optimizer.zero_grad()\n",
    "\n",
    "        # forward + backward + optimize\n",
    "        outputs = model(inputs)\n",
    "        \n",
    "        loss = criterion(outputs, labels)\n",
    "        result['loss'] += loss.item()\n",
    "        result['accuracy'] += accuracy(outputs, labels)\n",
    "        result['recall'] += recall(outputs, labels)\n",
    "        result['precision'] += precision(outputs, labels)\n",
    "\n",
    "        loss.backward()\n",
    "        optimizer.step()\n",
    "        \n",
    "    result = {k: v / len(trainloader) for k, v in result.items()}\n",
    "    return result \n",
    "\n",
    "def valid_model(model, validloader, criterion, device):\n",
    "    result = {'loss': 0,\n",
    "             'accuracy': 0,\n",
    "             'recall': 0,\n",
    "             'precision': 0}\n",
    "    model.eval()\n",
    "    with torch.no_grad():\n",
    "        for i, data in enumerate(validloader):\n",
    "            inputs, labels = data\n",
    "            inputs, labels = inputs.to(device), labels.to(device)\n",
    "            outputs = model(inputs)\n",
    "\n",
    "            loss = criterion(outputs, labels)\n",
    "            result['loss'] += loss.item()\n",
    "            result['accuracy'] += accuracy(outputs, labels)\n",
    "            result['recall'] += recall(outputs, labels)\n",
    "            result['precision'] += precision(outputs, labels)\n",
    "\n",
    "    result = {k: v / len(validloader) for k, v in result.items()}\n",
    "    return result\n",
    "\n",
    "def train_model(model, trainloader, validloader, optimizer, criterion, num_epochs, device, patience=5):\n",
    "    best_valid_perform = None\n",
    "    train_acc = {}\n",
    "    valid_acc = {}\n",
    "    train_loss = {}\n",
    "    valid_loss = {}\n",
    "    lr = {}\n",
    "    no_improvement_count = 0\n",
    "    for epoch in range(num_epochs):\n",
    "        train_perform = train_model_one_epoch(model, trainloader, optimizer, criterion, device)\n",
    "        valid_perform = valid_model(model, validloader, criterion, device)\n",
    "        if best_valid_perform is None or valid_perform['loss'] < best_valid_perform['loss']:\n",
    "            best_valid_perform = valid_perform\n",
    "            torch.save(model.state_dict(), 'best_valid.pt')\n",
    "            no_improvement_count = 0\n",
    "        else:\n",
    "            no_improvement_count += 1\n",
    "            if no_improvement_count >= patience:\n",
    "                print(f'Early stopping at epoch {epoch+1}')\n",
    "                break\n",
    "        print(f'Epoch {epoch+1}: Train Loss={train_perform[\"loss\"]:.4f}, Train Acc={train_perform[\"accuracy\"]:.4f}, Valid Loss={valid_perform[\"loss\"]:.4f}, Valid Acc={valid_perform[\"accuracy\"]:.4f}')\n",
    "        train_acc[epoch+1] = train_perform['accuracy']\n",
    "        valid_acc[epoch+1] = valid_perform['accuracy']\n",
    "        train_loss[epoch+1] = train_perform['loss']\n",
    "        valid_loss[epoch+1] = valid_perform['loss']\n",
    "        lr[epoch+1] = optimizer.param_groups[0]['lr']\n",
    "\n",
    "    show_train_acc(valid_acc, train_acc, train_loss, lr)\n",
    "\n",
    "    return train_perform, valid_perform\n",
    "\n",
    "\n"
   ]
  },
  {
   "cell_type": "code",
   "execution_count": null,
   "metadata": {},
   "outputs": [],
   "source": [
    "import time\n",
    "epoch_num = 5\n",
    "start_time = time.time()\n",
    "train_perform, valid_perform = train_model(net, trainloader, validateloader, optimizer, criterion, epoch_num, device)\n",
    "print(\"--- %s seconds ---\" % (time.time() - start_time))\n",
    "print('Finished Training')"
   ]
  },
  {
   "cell_type": "code",
   "execution_count": null,
   "metadata": {},
   "outputs": [],
   "source": [
    "# show_train_acc(dictionary_best, dictionary_acc, dictionary_loss, dictionary_lr)"
   ]
  },
  {
   "cell_type": "markdown",
   "metadata": {},
   "source": [
    "### Saving our model"
   ]
  },
  {
   "cell_type": "code",
   "execution_count": null,
   "metadata": {},
   "outputs": [],
   "source": [
    "PATH = './cinic_simple_trial.pth'\n",
    "torch.save(net.state_dict(), PATH)"
   ]
  },
  {
   "cell_type": "markdown",
   "metadata": {},
   "source": [
    "### Testing the model"
   ]
  },
  {
   "cell_type": "code",
   "execution_count": null,
   "metadata": {},
   "outputs": [],
   "source": [
    "import seaborn as sn\n",
    "import matplotlib.pyplot as plt\n",
    "from sklearn.metrics import confusion_matrix\n",
    "\n",
    "class_names = ['airplane', 'automobile', 'bird', 'cat', 'deer', 'dog', 'frog', 'horse', 'ship', 'truck']\n",
    "class_correct = list(0. for i in range(10))\n",
    "class_total = list(0. for i in range(10))\n",
    "correct = 0\n",
    "total = 0\n",
    "predicted_labels = []\n",
    "true_labels = []\n",
    "with torch.no_grad():\n",
    "    for data in testloader:\n",
    "        images, labels = data\n",
    "        images = images.to(device)\n",
    "        labels = labels.to(device)\n",
    "        outputs = net(images)\n",
    "        _, predicted = torch.max(outputs, 1)\n",
    "        predicted_labels.extend(predicted.cpu().numpy())\n",
    "        true_labels.extend(labels.cpu().numpy())\n",
    "        c = (predicted == labels).squeeze()\n",
    "        for i in range(len(labels)):\n",
    "            label = labels[i]\n",
    "            if class_total[label] == 0:\n",
    "                class_correct[label] = 0\n",
    "            else:\n",
    "                class_correct[label] += c[i].item()\n",
    "            class_total[label] += 1\n",
    "            correct += c[i].item()\n",
    "            total += 1\n",
    "\n",
    "for i in range(10):\n",
    "    if class_total[i] == 0:\n",
    "        print('Accuracy of %5s : N/A (no test images for this class)' % (classes[i]))\n",
    "    else:\n",
    "        print('Accuracy of %5s : %2d %%' % (classes[i], 100 * class_correct[i] / class_total[i]))\n",
    "\n",
    "print('Overall accuracy of the network on the test images: %2d %%' % (100 * correct / total))\n",
    "\n",
    "# Compute confusion matrix\n",
    "mat = confusion_matrix(true_labels, predicted_labels)\n",
    "\n",
    "# Plot confusion matrix heatmap\n",
    "fig, ax = plt.subplots(figsize=(10,10))\n",
    "sn.set(font_scale=1.4) # for label size\n",
    "sn.heatmap(mat, annot=True, annot_kws={\"size\": 10}, ax=ax, fmt=\".1f\") # font size\n",
    "plt.xlabel('Predicted label')\n",
    "plt.ylabel('True label')\n",
    "plt.show()"
   ]
  }
 ],
 "metadata": {
  "kernelspec": {
   "display_name": "TorchEnv",
   "language": "python",
   "name": "python3"
  },
  "language_info": {
   "codemirror_mode": {
    "name": "ipython",
    "version": 3
   },
   "file_extension": ".py",
   "mimetype": "text/x-python",
   "name": "python",
   "nbconvert_exporter": "python",
   "pygments_lexer": "ipython3",
   "version": "3.9.13"
  }
 },
 "nbformat": 4,
 "nbformat_minor": 2
}
